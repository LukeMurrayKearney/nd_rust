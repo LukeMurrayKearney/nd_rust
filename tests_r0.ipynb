{
 "cells": [
  {
   "cell_type": "code",
   "execution_count": 1,
   "metadata": {},
   "outputs": [
    {
     "data": {
      "image/png": "[encoded data removed]",
      "text/plain": [
       "<Figure size 432x288 with 1 Axes>"
      ]
     },
     "metadata": {
      "needs_background": "light"
     },
     "output_type": "display_data"
    }
   ],
   "source": [
    "import nd_rust as nd_r\n",
    "import nd_python as nd_p \n",
    "import numpy as np\n",
    "import json"
   ]
  },
  {
   "cell_type": "code",
   "execution_count": 2,
   "metadata": {},
   "outputs": [],
   "source": [
    "datas = ['CoMix_p1', 'CoMix_p2', 'polymod_df']\n",
    "data_names = ['comix1', 'comix2', 'poly']\n",
    "models = ['nbinom', 'dpln']\n",
    "# models = ['sbm']\n",
    "n = 100_000\n",
    "buckets = np.array([5,12,18,30,40,50,60,70])\n",
    "partitions = [0.058*n, 0.145*n, 0.212*n, 0.364*n, 0.497*n, 0.623*n, 0.759*n, 0.866*n, n]\n",
    "# for i, data in enumerate(datas):\n",
    "#     for model in models:\n",
    "#         print(data, model)\n",
    "#         egos, contact_matrix, params = nd_p.fit_to_data(input_file_path=f'input_data/{data}.csv', save_fig=False, buckets=buckets, dist_type=model)\n",
    "#         # np.savetxt(f'input_data/egos/egos_{data_names[i]}_{model}.csv', egos, delimiter=',')\n",
    "#         np.savetxt(f'input_data/parameters/params_{data_names[i]}_{model}.csv', params, delimiter=',')\n",
    "#     np.savetxt(f'input_data/contact_matrices/contact_matrix_{data_names[i]}.csv', contact_matrix, delimiter=',')\n",
    "#     # print(egos)\n",
    "#     with open(f'input_data/egos/egos_{data_names[i]}.json', 'w') as file:\n",
    "#         json.dump([{'age': a['age'], 'contacts': list(a['contacts']), 'degree': a['degree']} for a in egos], file)\n"
   ]
  },
  {
   "cell_type": "code",
   "execution_count": 3,
   "metadata": {},
   "outputs": [],
   "source": [
    "# run code to check fit to data\n",
    "data = data_names[2]\n",
    "contact_matrix = np.genfromtxt(f'input_data/contact_matrices/contact_matrix_{data}.csv', delimiter=',')\n",
    "sims = nd_p.simulate(partitions=partitions, contact_matrix=contact_matrix, network_params=[], tau=0.0106, n=n, dist_type='sbm',inv_gamma=5,prop_infec=1/n)"
   ]
  },
  {
   "cell_type": "code",
   "execution_count": 4,
   "metadata": {},
   "outputs": [
    {
     "name": "stdout",
     "output_type": "stream",
     "text": [
      "dict_keys(['infections', 'final sizes', 'peak time', 'secondary cases by gen', 'degrees by gen', 'tau'])\n"
     ]
    }
   ],
   "source": [
    "print(sims.keys())"
   ]
  },
  {
   "cell_type": "code",
   "execution_count": 3,
   "metadata": {},
   "outputs": [],
   "source": [
    "n, iters = 100, 1\n",
    "data_names = ['comix1']\n",
    "models = ['sbm']\n",
    "for data in data_names:\n",
    "    for model in models: \n",
    "        # print(f'{data}: {model}')\n",
    "        contact_matrix = np.genfromtxt(f'input_data/contact_matrices/contact_matrix_{data}.csv', delimiter=',')\n",
    "        # params = np.genfromtxt(f'input_data/parameters/params_{data}_{model}.csv', delimiter=',')\n",
    "        # print(params)\n",
    "        # with open(f'input_data/egos/egos_{data}.json') as f:\n",
    "        #     egos = json.load(f)\n",
    "        nd_p.test_r0(partitions=partitions, contact_matrix=contact_matrix, iters=1, n=n, prop_infec=2e-2, r0=3, dist_type=model)"
   ]
  },
  {
   "cell_type": "code",
   "execution_count": null,
   "metadata": {},
   "outputs": [],
   "source": []
  }
 ],
 "metadata": {
  "kernelspec": {
   "display_name": "base",
   "language": "python",
   "name": "python3"
  },
  "language_info": {
   "codemirror_mode": {
    "name": "ipython",
    "version": 3
   },
   "file_extension": ".py",
   "mimetype": "text/x-python",
   "name": "python",
   "nbconvert_exporter": "python",
   "pygments_lexer": "ipython3",
   "version": "3.9.12"
  }
 },
 "nbformat": 4,
 "nbformat_minor": 2
}
